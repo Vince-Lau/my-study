{
 "cells": [
  {
   "cell_type": "markdown",
   "metadata": {
    "state": "normal"
   },
   "source": [
    "# Lab 03: Runtime Complexity"
   ]
  },
  {
   "cell_type": "code",
   "execution_count": null,
   "metadata": {
    "state": "normal"
   },
   "outputs": [],
   "source": [
    "# remember to evaluate this cell first!\n",
    "import matplotlib.pylab as plt\n",
    "import numpy as np\n",
    "import math\n",
    "import timeit\n",
    "import random\n",
    "%matplotlib inline"
   ]
  },
  {
   "cell_type": "markdown",
   "metadata": {
    "state": "normal"
   },
   "source": [
    "## Overview"
   ]
  },
  {
   "cell_type": "markdown",
   "metadata": {
    "state": "normal"
   },
   "source": [
    "In this lab you will be given a number of pre-written functions and, for each function $f$, will:\n",
    "\n",
    "1. Determine its asymptotic runtime complexity; i.e., find $g$ where $f=O(g)$\n",
    "2. Evaluate and collect runtimes of $f$ over different sizes of input\n",
    "3. Plot collected runtimes along with appropriately parameterized graphs of $g$ to demonstrate tight asymptotic bounds\n",
    "\n",
    "It is possible that in step 3 you will realize the bounding function $g$ you settled on in step 1 was incorrect, in which case you will need to make adjustments.\n",
    "\n",
    "The next two sections cover how to create basic plots with `matplotlib` and use `timeit` to collect timing data. We did both of these in the timing lecture, but a recap might be helpful!"
   ]
  },
  {
   "cell_type": "markdown",
   "metadata": {
    "state": "normal"
   },
   "source": [
    "## Plotting with matplotlib"
   ]
  },
  {
   "cell_type": "markdown",
   "metadata": {
    "state": "normal"
   },
   "source": [
    "You can use the matplotlib library to create all sorts of sophisticated visualizations, but we will use it solely for drawing simple 2-dimensional plots. You can check out the [project website](https://matplotlib.org) for documentation on other features.\n",
    "\n",
    "The plotting function we will use is `matplotlib.pyplot.plot` ([full documentation here](https://matplotlib.org/api/_as_gen/matplotlib.pyplot.plot.html#matplotlib.pyplot.plot)), which, when passed two \"array-like\" objects of equal length, will interpret and plot their contents as x and y axis coordinates. We will generally use tuples, lists, and ranges as array-like objects. Note that generators are *not* considered array-like by matplotlib.\n",
    "\n",
    "Some examples (note that we use a semicolon after the call to `plot` to hide its return value):"
   ]
  },
  {
   "cell_type": "code",
   "execution_count": null,
   "metadata": {
    "state": "normal"
   },
   "outputs": [],
   "source": [
    "plt.plot([1, 2, 3, 4, 5], [50, 20, 30, 10, 40]);"
   ]
  },
  {
   "cell_type": "code",
   "execution_count": null,
   "metadata": {
    "state": "normal"
   },
   "outputs": [],
   "source": [
    "xs = range(11)\n",
    "ys = [x*2 for x in xs]\n",
    "plt.plot(xs, ys);"
   ]
  },
  {
   "cell_type": "markdown",
   "metadata": {
    "state": "normal"
   },
   "source": [
    "We can also provide an optional format string to `plot`, which controls marker, line-style, and color for the plot.\n",
    "\n",
    "Here's a shortened list of options copied from the [full documentation of `plot`](https://matplotlib.org/api/_as_gen/matplotlib.pyplot.plot.html#matplotlib.pyplot.plot):\n",
    "\n",
    "**Markers**\n",
    "\n",
    "  - `.` : point marker\n",
    "  - `o` : circle marker\n",
    "  - `s` : square marker\n",
    "  - `d` : diamond marker\n",
    "\n",
    "**Line-styles**\n",
    " \n",
    "  - `-` : solid line style\n",
    "  - `--` : dashed line style\n",
    "  - `:` : dotted line style\n",
    "\n",
    "**Colors**\n",
    "\n",
    "  - `k` : black\n",
    "  - `r` : red\n",
    "  - `g` : blue\n",
    "  - `b` : green\n",
    "  - `y` : yellow\n",
    "  - `c` : cyan\n",
    "  \n",
    "Here are the above plots with some color and styling (if we omit a line style no connecting line is drawn between data points):"
   ]
  },
  {
   "cell_type": "code",
   "execution_count": null,
   "metadata": {
    "state": "normal"
   },
   "outputs": [],
   "source": [
    "plt.plot([1, 2, 3, 4, 5], [50, 20, 30, 10, 40], 'o--r');"
   ]
  },
  {
   "cell_type": "code",
   "execution_count": null,
   "metadata": {
    "state": "normal"
   },
   "outputs": [],
   "source": [
    "xs = range(11)\n",
    "ys = [x*2 for x in xs]\n",
    "plt.plot(xs, ys, 'dg');"
   ]
  },
  {
   "cell_type": "markdown",
   "metadata": {
    "state": "normal"
   },
   "source": [
    "Instead of regular `range` objects, which only allow for integral start/stop/step values, we typically prefer to use the [numpy library](https://numpy.org)'s `arange` and `linspace` functions with matplotlib. `arange` is like `range`, except we can use floating point values for start/stop/step. `linspace` lets us specify start and stop values (both inclusive), and the number of values to return in that interval.\n",
    "\n",
    "Examples of `arange` and `linspace` calls (note that both functions return numpy arrays, which are iterable and can be passed to `plot`):"
   ]
  },
  {
   "cell_type": "code",
   "execution_count": null,
   "metadata": {
    "state": "normal"
   },
   "outputs": [],
   "source": [
    "np.arange(0.5, 2.5, 0.1)"
   ]
  },
  {
   "cell_type": "code",
   "execution_count": null,
   "metadata": {
    "state": "normal"
   },
   "outputs": [],
   "source": [
    "np.linspace(10, 20, 41)"
   ]
  },
  {
   "cell_type": "code",
   "execution_count": null,
   "metadata": {
    "state": "normal"
   },
   "outputs": [],
   "source": [
    "np.linspace(1, 100_000, 50, dtype=int) # we can specify the data type to coerce values into integers"
   ]
  },
  {
   "cell_type": "markdown",
   "metadata": {
    "state": "normal"
   },
   "source": [
    "`plot` can be called multiple times in the same cell to draw multiple lines in the same chart. Below we use this facility together with `linspace` and a handful of list comprehensions to plot some common runtime complexity bounding functions over a small interval: "
   ]
  },
  {
   "cell_type": "code",
   "execution_count": null,
   "metadata": {
    "state": "normal"
   },
   "outputs": [],
   "source": [
    "count = 100\n",
    "xs = np.linspace(0.1, 4, count)\n",
    "ys_const        = [1] * count\n",
    "ys_log          = [math.log(x) for x in xs]\n",
    "ys_linear       = [x for x in xs]\n",
    "ys_linearithmic = [x * math.log(x) for x in xs]\n",
    "ys_quadratic    = [x**2 for x in xs]\n",
    "\n",
    "plt.plot(xs, ys_const, 'c')\n",
    "plt.plot(xs, ys_log, 'r')\n",
    "plt.plot(xs, ys_linear, 'b')\n",
    "plt.plot(xs, ys_linearithmic, 'g')\n",
    "plt.plot(xs, ys_quadratic, 'y');"
   ]
  },
  {
   "cell_type": "markdown",
   "metadata": {
    "state": "normal"
   },
   "source": [
    "## Collecting timings with timeit"
   ]
  },
  {
   "cell_type": "markdown",
   "metadata": {
    "state": "normal"
   },
   "source": [
    "The timeit module contains the `timeit` function which measures the runtime of code that we pass to it. As covered in class, `timeit` has the following API:\n",
    "\n",
    "    timeit(stmt='pass', setup='pass', number=1000000, globals=None)\n",
    "\n",
    "In a typical invocation, we would pass it code in `stmt` that calls a function defined in our notebook, code in `setup` that initializes any arguments used by `stmt`, a \"reasonable\" value for `number` (such that the amount of time taken is measurable but not too long), and `globals=globals()` (which, recall, allows the timeit module to access functions defined in our notebook).\n",
    "\n",
    "Here's a simple function for which we might want to take some runtime measurements for different values of `n`:"
   ]
  },
  {
   "cell_type": "code",
   "execution_count": null,
   "metadata": {
    "state": "normal"
   },
   "outputs": [],
   "source": [
    "def demo1(n):\n",
    "    accum = 0\n",
    "    for i in range(n):\n",
    "        accum += 1\n",
    "    return accum"
   ]
  },
  {
   "cell_type": "markdown",
   "metadata": {
    "state": "normal"
   },
   "source": [
    "We define our input values:"
   ]
  },
  {
   "cell_type": "code",
   "execution_count": null,
   "metadata": {
    "state": "normal"
   },
   "outputs": [],
   "source": [
    "ns = np.linspace(1, 10_000, 50, dtype=int)"
   ]
  },
  {
   "cell_type": "markdown",
   "metadata": {
    "state": "normal"
   },
   "source": [
    "And build up a list of timings with `timeit` (because `demo1` take the numerical input directly, there's no setup to do):"
   ]
  },
  {
   "cell_type": "code",
   "execution_count": null,
   "metadata": {
    "state": "normal"
   },
   "outputs": [],
   "source": [
    "ts = [timeit.timeit('demo1({})'.format(n), \n",
    "                    number=100, \n",
    "                    globals=globals()) \n",
    "      for n in ns]"
   ]
  },
  {
   "cell_type": "markdown",
   "metadata": {
    "state": "normal"
   },
   "source": [
    "And now we can plot the results:"
   ]
  },
  {
   "cell_type": "code",
   "execution_count": null,
   "metadata": {
    "state": "normal"
   },
   "outputs": [],
   "source": [
    "plt.plot(ns, ts, 'or');"
   ]
  },
  {
   "cell_type": "markdown",
   "metadata": {
    "state": "normal"
   },
   "source": [
    "Here's another function to time. This one takes a list instead of a number to process:"
   ]
  },
  {
   "cell_type": "code",
   "execution_count": null,
   "metadata": {
    "state": "normal"
   },
   "outputs": [],
   "source": [
    "def demo2(lst):\n",
    "    accum = 0\n",
    "    for x in lst:\n",
    "        accum += x\n",
    "    return accum"
   ]
  },
  {
   "cell_type": "markdown",
   "metadata": {
    "state": "normal"
   },
   "source": [
    "We define our input sizes:"
   ]
  },
  {
   "cell_type": "code",
   "execution_count": null,
   "metadata": {
    "state": "normal"
   },
   "outputs": [],
   "source": [
    "ns = np.linspace(1, 10_000, 50, dtype=int)"
   ]
  },
  {
   "cell_type": "markdown",
   "metadata": {
    "state": "normal"
   },
   "source": [
    "This time, for each invocation of `timeit` we need to build and pass a list of the appropriate size. Based on the line `accum += x` from the definition of `demo2`, it's clear that the elements in the list must support addition. We don't, however, want this line to be anything other than a constant-time operation (why?), so we'll just pass a list of integers. Order doesn't matter in this function, so we could trivially pass in `list(range(n))`, but in the example below we randomize the list just to demonstrate how to do so:"
   ]
  },
  {
   "cell_type": "code",
   "execution_count": null,
   "metadata": {
    "state": "normal"
   },
   "outputs": [],
   "source": [
    "ts = [timeit.timeit('demo2(lst)', \n",
    "                    setup='lst = list(range({})) ; random.shuffle(lst)'.format(n),\n",
    "                    number=100, \n",
    "                    globals=globals()) \n",
    "      for n in ns]"
   ]
  },
  {
   "cell_type": "code",
   "execution_count": null,
   "metadata": {
    "state": "normal"
   },
   "outputs": [],
   "source": [
    "plt.plot(ns, ts, 'or');"
   ]
  },
  {
   "cell_type": "markdown",
   "metadata": {
    "state": "normal"
   },
   "source": [
    "## Plotting bounding functions"
   ]
  },
  {
   "cell_type": "markdown",
   "metadata": {
    "state": "normal"
   },
   "source": [
    "After collecting runtimes, the next step is to determine the worst-case asymptotic runtime complexity of our function, and, using that, to come up with and plot bounding functions. We will skip over the worst-case analysis and assume it is obvious that both `demo1` and `demo2` have linear worst-case runtime complexity. I.e., they are both $= O(N)$, where $N$ is the magnitude of the integer input to `demo1`, and the size of the list input to `demo2`. If we interpret this as a *tight* asymptotic bound, remember that this means we should be able to come up with multiplers $c_1$ and $c_2$ where for large $N$, $c_1N$ is smaller than the actual runtime and $c_2N$ is larger.\n",
    "\n",
    "Let's look at the data collected. For `demo2`, we have the (partial) data points:"
   ]
  },
  {
   "cell_type": "code",
   "execution_count": null,
   "metadata": {
    "state": "normal"
   },
   "outputs": [],
   "source": [
    "list(zip(ns, ts))[:10]"
   ]
  },
  {
   "cell_type": "markdown",
   "metadata": {
    "state": "normal"
   },
   "source": [
    "We could use linear regression to come up with an equation for the best-fitting line, but we don't need anything so refined. Let's just compute the average of the slopes between all neighboring points:"
   ]
  },
  {
   "cell_type": "code",
   "execution_count": null,
   "metadata": {
    "state": "normal"
   },
   "outputs": [],
   "source": [
    "sum = 0\n",
    "for i in range(len(ns)-1):\n",
    "    x0, x1 = ns[i:i+2]\n",
    "    y0, y1 = ts[i:i+2]\n",
    "    sum += (y1-y0) / (x1-x0) # recall: slope is (rise/run)\n",
    "avg_slope = sum / (len(ns)-1)"
   ]
  },
  {
   "cell_type": "markdown",
   "metadata": {
    "state": "normal"
   },
   "source": [
    "It should make sense that for our bounding linear functions, we simply need to pick $c_1$ < slope, and $c_2$ > slope. To be safe, we use the multipliers 0.8 and 1.2 in our plot below (we also plot the line using the unaltered slope for good measure):"
   ]
  },
  {
   "cell_type": "code",
   "execution_count": null,
   "metadata": {
    "state": "normal"
   },
   "outputs": [],
   "source": [
    "plt.plot(ns, ts, 'or')\n",
    "plt.plot(ns, [avg_slope*n     for n in ns], '--r')\n",
    "plt.plot(ns, [0.8*avg_slope*n for n in ns], '-g')   # green = lower bound\n",
    "plt.plot(ns, [1.2*avg_slope*n for n in ns], '-b');  # blue = upper bound"
   ]
  },
  {
   "cell_type": "markdown",
   "metadata": {
    "state": "normal"
   },
   "source": [
    "While some early data points may lie outside the bounding functions, recall that the goal is to simply ensure all data points *after* some threshold value of $N$ lie within the bounding functions. \n",
    "\n",
    "You will need to state the worst-case asymptotic runtime complexity of, and produce a chart like this for all the functions below.\n",
    "\n",
    "---"
   ]
  },
  {
   "cell_type": "markdown",
   "metadata": {
    "state": "normal"
   },
   "source": [
    "## Exercises\n",
    "\n",
    "For the function provided in the first cell of each numbered exercise below, you will (1) state your hypothesized worst-case Big-O runtime complexity, (2) write code to collect timings for different sizes of input (it may take a bit of work to figure out how to come up with *worst-case* inputs!), and (3) plot the timings alongside bounding functions. As you work through an exercise, it's certainly possible that you may need to go back and revise your initial hypothesis. Note that the bounding functions must take the form $c \\cdot g$, where $c$ is a constant multipler and $g$ is your stated runtime complexity. E.g., for a $O(N^2)$ function, your bounding functions will be of the form $c \\cdot N^2$.\n",
    "\n",
    "Each exercise already includes three cells beneath the provided function; simply fill them in with your own data. You are alotted a total of 30 seconds for all cells in the notebook to be evaluated, so you also need to be clever about collecting timings."
   ]
  },
  {
   "cell_type": "markdown",
   "metadata": {
    "state": "normal"
   },
   "source": [
    "## Exercise 1"
   ]
  },
  {
   "cell_type": "code",
   "execution_count": null,
   "metadata": {
    "deletable": false,
    "editable": false,
    "id": "red_boi",
    "state": "read_only"
   },
   "outputs": [],
   "source": [
    "def f1(lst):\n",
    "    r = 0\n",
    "    n = 100\n",
    "    if len(lst) < n:\n",
    "        n = len(lst)\n",
    "    for x in range(n):\n",
    "        r += x"
   ]
  },
  {
   "cell_type": "markdown",
   "metadata": {
    "state": "normal"
   },
   "source": [
    "Hypothesis: `f1` = O(?) &larr; fill in your hypothesis here"
   ]
  },
  {
   "cell_type": "code",
   "execution_count": null,
   "metadata": {
    "deletable": false,
    "id": "able_vali",
    "starter_code": "# collect timing data into arrays/lists here\nns = []\nts = []",
    "state": "graded"
   },
   "outputs": [],
   "source": [
    "# collect timing data into arrays/lists here\n",
    "ns = []\n",
    "ts = []"
   ]
  },
  {
   "cell_type": "code",
   "execution_count": null,
   "metadata": {
    "deletable": false,
    "id": "blue_mimir",
    "starter_code": "# plot your data and bounding functions here\nplt.plot(ns, ts, 'or')\nplt.plot(ns, [], '-g')\nplt.plot(ns, [], '-b');",
    "state": "graded"
   },
   "outputs": [],
   "source": [
    "# plot your data and bounding functions here\n",
    "plt.plot(ns, ts, 'or')\n",
    "plt.plot(ns, [], '-g')\n",
    "plt.plot(ns, [], '-b');"
   ]
  },
  {
   "cell_type": "markdown",
   "metadata": {
    "state": "normal"
   },
   "source": [
    "## Exercise 2"
   ]
  },
  {
   "cell_type": "code",
   "execution_count": null,
   "metadata": {
    "deletable": false,
    "editable": false,
    "id": "fit_vali",
    "state": "read_only"
   },
   "outputs": [],
   "source": [
    "def f2(x):\n",
    "    r = x / 2\n",
    "    d = 1e-10\n",
    "    while abs(x - r**2) > d:\n",
    "        r = (r + x/r) / 2\n",
    "    return r"
   ]
  },
  {
   "cell_type": "markdown",
   "metadata": {
    "state": "normal"
   },
   "source": [
    "Hypothesis: `f2` = O(?) &larr; fill in your hypothesis here"
   ]
  },
  {
   "cell_type": "code",
   "execution_count": null,
   "metadata": {
    "deletable": false,
    "id": "calm_vali",
    "starter_code": "# collect timing data into arrays/lists here\nns = []\nts = []",
    "state": "graded"
   },
   "outputs": [],
   "source": [
    "# collect timing data into arrays/lists here\n",
    "ns = []\n",
    "ts = []"
   ]
  },
  {
   "cell_type": "code",
   "execution_count": null,
   "metadata": {
    "deletable": false,
    "id": "calm_mimir",
    "starter_code": "# plot your data and bounding functions here\nplt.plot(ns, ts, 'or')\nplt.plot(ns, [], '-g')\nplt.plot(ns, [], '-b');",
    "state": "graded"
   },
   "outputs": [],
   "source": [
    "# plot your data and bounding functions here\n",
    "plt.plot(ns, ts, 'or')\n",
    "plt.plot(ns, [], '-g')\n",
    "plt.plot(ns, [], '-b');"
   ]
  },
  {
   "cell_type": "markdown",
   "metadata": {
    "state": "normal"
   },
   "source": [
    "## Exercise 3"
   ]
  },
  {
   "cell_type": "code",
   "execution_count": null,
   "metadata": {
    "deletable": false,
    "editable": false,
    "id": "fit_tyr",
    "state": "read_only"
   },
   "outputs": [],
   "source": [
    "def f3(lst):\n",
    "    while True:\n",
    "        swapped = False\n",
    "        for i in range(len(lst)-1):\n",
    "            if lst[i] > lst[i+1]:\n",
    "                lst[i], lst[i+1] = lst[i+1], lst[i]\n",
    "                swapped = True\n",
    "        if not swapped:\n",
    "            break"
   ]
  },
  {
   "cell_type": "markdown",
   "metadata": {
    "state": "normal"
   },
   "source": [
    "Hypothesis: `f3` = O(?) &larr; fill in your hypothesis here"
   ]
  },
  {
   "cell_type": "code",
   "execution_count": null,
   "metadata": {
    "deletable": false,
    "id": "spicy_nott",
    "starter_code": "# collect timing data into arrays/lists here\nns = []\nts = []",
    "state": "graded"
   },
   "outputs": [],
   "source": [
    "# collect timing data into arrays/lists here\n",
    "ns = []\n",
    "ts = []"
   ]
  },
  {
   "cell_type": "code",
   "execution_count": null,
   "metadata": {
    "deletable": false,
    "id": "high_tyr",
    "starter_code": "# plot your data and bounding functions here\nplt.plot(ns, ts, 'or')\nplt.plot(ns, [], '-g')\nplt.plot(ns, [], '-b');",
    "state": "graded"
   },
   "outputs": [],
   "source": [
    "# plot your data and bounding functions here\n",
    "plt.plot(ns, ts, 'or')\n",
    "plt.plot(ns, [], '-g')\n",
    "plt.plot(ns, [], '-b');"
   ]
  },
  {
   "cell_type": "markdown",
   "metadata": {
    "state": "normal"
   },
   "source": [
    "## Exercise 4"
   ]
  },
  {
   "cell_type": "code",
   "execution_count": null,
   "metadata": {
    "deletable": false,
    "editable": false,
    "id": "calm_ran",
    "state": "read_only"
   },
   "outputs": [],
   "source": [
    "def f4(n):\n",
    "    counters = [0] * n\n",
    "    while not all(counters):\n",
    "        for i in range(n):\n",
    "            if counters[i]:\n",
    "                counters[i] = 0\n",
    "            else:\n",
    "                counters[i] = 1\n",
    "                break"
   ]
  },
  {
   "cell_type": "markdown",
   "metadata": {
    "state": "normal"
   },
   "source": [
    "Hypothesis: `f4` = O(?) &larr; fill in your hypothesis here"
   ]
  },
  {
   "cell_type": "code",
   "execution_count": null,
   "metadata": {
    "deletable": false,
    "id": "eager_saga",
    "starter_code": "# collect timing data into arrays/lists here\nns = []\nts = []",
    "state": "graded"
   },
   "outputs": [],
   "source": [
    "# collect timing data into arrays/lists here\n",
    "ns = []\n",
    "ts = []"
   ]
  },
  {
   "cell_type": "code",
   "execution_count": null,
   "metadata": {
    "deletable": false,
    "id": "sharp_thor",
    "starter_code": "# plot your data and bounding functions here\nplt.plot(ns, ts, 'or')\nplt.plot(ns, [], '-g')\nplt.plot(ns, [], '-b');",
    "state": "graded"
   },
   "outputs": [],
   "source": [
    "# plot your data and bounding functions here\n",
    "plt.plot(ns, ts, 'or')\n",
    "plt.plot(ns, [], '-g')\n",
    "plt.plot(ns, [], '-b');"
   ]
  },
  {
   "cell_type": "markdown",
   "metadata": {
    "state": "normal"
   },
   "source": [
    "## Exercise 5"
   ]
  },
  {
   "cell_type": "code",
   "execution_count": null,
   "metadata": {
    "deletable": false,
    "editable": false,
    "id": "sly_loki",
    "state": "read_only"
   },
   "outputs": [],
   "source": [
    "def f5(lst):\n",
    "    n = len(lst)\n",
    "    for i in range(n*100):\n",
    "        a = random.randrange(n)\n",
    "        b = random.randrange(n)\n",
    "        lst[a], lst[b] = lst[b], lst[a]"
   ]
  },
  {
   "cell_type": "markdown",
   "metadata": {
    "state": "normal"
   },
   "source": [
    "Hypothesis: `f5` = O(?) &larr; fill in your hypothesis here"
   ]
  },
  {
   "cell_type": "code",
   "execution_count": null,
   "metadata": {
    "deletable": false,
    "id": "apt_hel",
    "starter_code": "# collect timing data into arrays/lists here\nns = []\nts = []",
    "state": "graded"
   },
   "outputs": [],
   "source": [
    "# collect timing data into arrays/lists here\n",
    "ns = []\n",
    "ts = []"
   ]
  },
  {
   "cell_type": "code",
   "execution_count": null,
   "metadata": {
    "deletable": false,
    "id": "sharp_sol",
    "starter_code": "# plot your data and bounding functions here\nplt.plot(ns, ts, 'or')\nplt.plot(ns, [], '-g')\nplt.plot(ns, [], '-b');",
    "state": "graded"
   },
   "outputs": [],
   "source": [
    "# plot your data and bounding functions here\n",
    "plt.plot(ns, ts, 'or')\n",
    "plt.plot(ns, [], '-g')\n",
    "plt.plot(ns, [], '-b');"
   ]
  }
 ],
 "metadata": {
  "kernelspec": {
   "display_name": "Python 3",
   "language": "python",
   "name": "python3"
  },
  "language_info": {
   "codemirror_mode": {
    "name": "ipython",
    "version": 3
   },
   "file_extension": ".py",
   "mimetype": "text/x-python",
   "name": "python",
   "nbconvert_exporter": "python",
   "pygments_lexer": "ipython3",
   "version": "3.8.5"
  },
  "mimir": {
   "data": {},
   "last_submission_id": "",
   "project_id": "1d641961-f9d3-4280-b5fd-22e416e072df"
  },
  "varInspector": {
   "cols": {
    "lenName": 16,
    "lenType": 16,
    "lenVar": 40
   },
   "kernels_config": {
    "python": {
     "delete_cmd_postfix": "",
     "delete_cmd_prefix": "del ",
     "library": "var_list.py",
     "varRefreshCmd": "print(var_dic_list())"
    },
    "r": {
     "delete_cmd_postfix": ") ",
     "delete_cmd_prefix": "rm(",
     "library": "var_list.r",
     "varRefreshCmd": "cat(var_dic_list()) "
    }
   },
   "types_to_exclude": [
    "module",
    "function",
    "builtin_function_or_method",
    "instance",
    "_Feature"
   ],
   "window_display": false
  }
 },
 "nbformat": 4,
 "nbformat_minor": 2
}
